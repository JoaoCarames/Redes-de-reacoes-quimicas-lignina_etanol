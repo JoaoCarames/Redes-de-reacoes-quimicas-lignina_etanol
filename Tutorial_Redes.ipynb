{
 "cells": [
  {
   "cell_type": "markdown",
   "id": "dde3f21b-393f-4302-ad1f-f6415b11b91a",
   "metadata": {},
   "source": [
    "# Tutorial - Rede de Reações Químicas"
   ]
  },
  {
   "cell_type": "markdown",
   "id": "e823158e-8b0f-436d-bea0-68c01f9f1afb",
   "metadata": {},
   "source": [
    "---\n",
    "- Criador: João Guilherme dos Santos Caramês\n",
    "- Data: 06/12/2023\n",
    "\n",
    "---"
   ]
  },
  {
   "cell_type": "markdown",
   "id": "47ebe3e4-b6b8-48c5-a9f5-8c0b408adaa1",
   "metadata": {},
   "source": [
    "Olá cientista !\n",
    "---\n",
    "\n",
    "Esse código é um tutorial de como fazer uma rede de reações químicas com python. Para isso, precisamos entender primeiro o que é uma rede de reações químicas computacionalmente para saber o que precisamos fazer, certo?\n",
    "\n",
    "Nesse sentido, uma rede de reações é um grafo, ou seja, um conjunto de dados (vértice dos grafos) que possuem relações entre si (arestas dos grafos). No nosso caso, os vértices são divididos em dois conjuntos, compostos e reações, os quais são ligados por arestas direcionais (ou simplesmente setas). Assim, um composto que é reagentes de uma reação tem uma seta que sai deles em direção à reação e os produtos dela uma seta que sai da reação em direção a eles.\n",
    "\n",
    "Dessa maneira, precisamos representar os compostos e as reações computacionalmente."
   ]
  },
  {
   "cell_type": "markdown",
   "id": "d5789227-c03e-45d3-97cb-79d1ec2ab5e2",
   "metadata": {},
   "source": [
    "## Compostos"
   ]
  },
  {
   "cell_type": "markdown",
   "id": "d40caeac-0d80-4647-8fbb-4d5dcba92f31",
   "metadata": {},
   "source": [
    "Computacionalmente, podemos representar compostos químicos por meio de identificadores, os quais são, em sua maioria, são strings (ou simplesmente palavras) que representam de alguma maneira sua composição e estrutura ou apenas elementos de um \"índice remissivo\" para encontrar suas informações em um banco de dados. Nesse contexto, diversos identificadores foram criados e para esse tutorial eu escolhi o SMILES.\n",
    "\n",
    "1. Simplified Molecular-Input Line-Entry System (SMILES): esse identificador descreve as moléculas a partir dos elementos que fazem parte de sua composição e da maneira que estão arranjados. Assim, alguns compostos podem ser descritos por mais de um SMILES, mas um SMILES somente remete a um compostos. Para usarmos eles como identificadores, precisamos garantir que cada composto será representado por um único SMILES, o canônico.\n",
    "    \n",
    "    Exemplo de SMILES (Etanol): $CH_3CH_2OH \\xrightarrow{} CCO$. Em português, da esquerda para a direita, um carbono alifático (C) ligado a outro carbono alifático (C) ligado a um oxigênio alifático (O). Sim, os hidrogênios são omitidos por simplicidade.\n",
    "    \n",
    "Para esse tutorial, trabalheremos com a biblioteca RDKIT, a qual consegue gerar moléculas a partir de identificadores, então instale ela."
   ]
  },
  {
   "cell_type": "code",
   "execution_count": null,
   "id": "400a19e9-7067-4e81-973d-f0f4f7b9d4f6",
   "metadata": {},
   "outputs": [],
   "source": [
    "pip install rdkit"
   ]
  },
  {
   "cell_type": "markdown",
   "id": "86de2192-52be-4404-b652-d3af035a232c",
   "metadata": {},
   "source": [
    "Com isso, vamos ver como o RDKIT representa o Etanol a partir do seu SMILES e do seu módulo Chem.\n",
    "\n",
    "- SMILES_Etanol: string que define o SMILES do Etanol.\n",
    "- MolFromSmiles: função do módulo Chem do RDKIT que gera moléculas a partir do SMILES.\n",
    "- MolToImage: permite visualizar as moléculas."
   ]
  },
  {
   "cell_type": "code",
   "execution_count": 1,
   "id": "cf813c17-dfc5-48ce-8e88-472731f29f7b",
   "metadata": {},
   "outputs": [
    {
     "data": {
      "image/png": "[encoded data removed]",
      "text/plain": [
       "<PIL.PngImagePlugin.PngImageFile image mode=RGB size=300x300>"
      ]
     },
     "execution_count": 1,
     "metadata": {},
     "output_type": "execute_result"
    }
   ],
   "source": [
    "from rdkit import Chem\n",
    "from rdkit.Chem import Draw\n",
    "\n",
    "SMILES_Etanol = \"CCO\"\n",
    "\n",
    "Etanol = Chem.MolFromSmiles(SMILES_Etanol)\n",
    "imagem_Etanol = Draw.MolToImage(Etanol)\n",
    "\n",
    "imagem_Etanol"
   ]
  },
  {
   "cell_type": "markdown",
   "id": "7b77afdd-ae24-46f1-83ec-96f9afb79b06",
   "metadata": {},
   "source": [
    "Com isso, podemos colocar todas as moléculas na rede de reações de maneira única e usá-las computacionalmente com sua representação do RDKIT. Todavia, a quantidade de compostos numa rede de reações pode ser muito grande, então não vamos gerar molécula por molécula e sim fazer isso iterativamente a partir dos SMILES, os quais são conhecidos e podem ser listados.\n",
    "\n",
    "Nesse sentido, a abordagem a seguir foi uma opção tomada apenas para fins didáticos, já que espera-se que ao desenvolver uma rede a partir de N compostos, já iremos conhecer os SMILES de todos eles. Dessa forma, vamos extrair os SMILES de compostos que fazem parte de duas reações, o etanol, a água, o eteno, o catecol e o 4-etil catecol, a partir do PubChem.\n",
    "\n",
    "O [PubChem](https://pubchem.ncbi.nlm.nih.gov/) é uma base de dados químicos de acesso livre da National Center for Biotechnology Information (NCBI) dos Estados Unidos. No PubChem podemos encontrar vários identificadores das moléculas, inclusive o SMILES, e podemos usar da biblioteca em python dele para extrair diretamente essas informações no python. Então vamos instalar ela também."
   ]
  },
  {
   "cell_type": "code",
   "execution_count": null,
   "id": "82c3bcdb-bbd3-4c92-b956-b9960f658514",
   "metadata": {},
   "outputs": [],
   "source": [
    "pip install pubchempy"
   ]
  },
  {
   "cell_type": "markdown",
   "id": "6ce299c0-e800-41e1-b834-9f74c4187875",
   "metadata": {},
   "source": [
    "A iteração a seguir foi feita apenas para gerar a lista de SMILES. Novamente, se você já tiver ela ou mesmo prefira fazer de outra maneira, pode ignorar esse uso do pubchempy.\n",
    "\n",
    "Agora vamos buscar no pubchempy os SMILES a partir do nome em inglês dos compostos de interesse. Para isso:\n",
    "\n",
    "1. Organizamos os compostos em uma lista.\n",
    "2. Definimos uma maneira de armazenar os smiles, um dicionário, no caso.\n",
    "3. Fazemos uma iteração. Leia cada linha de código para mais detalhes em português nos comentários.\n",
    "    - get_compounds: busca qual é o código do pubchem (CID) para aquele composto\n",
    "    - canonical_smiles: busca qual o SMILES daquele código.\n",
    "4. Visualizamos o resultado da busca."
   ]
  },
  {
   "cell_type": "code",
   "execution_count": 2,
   "id": "f6fd5e46-ad88-4ac1-b2b1-1fffa5dc7f3a",
   "metadata": {},
   "outputs": [
    {
     "name": "stdout",
     "output_type": "stream",
     "text": [
      "water: O\n",
      "ethanol: CCO\n",
      "ethene: C=C\n",
      "catechol: Oc1ccccc1O\n",
      "4-Ethylcatechol: CCc1ccc(O)c(O)c1\n"
     ]
    }
   ],
   "source": [
    "import pubchempy as pcp\n",
    "\n",
    "# Lista de compostos\n",
    "nomes_compostos = ['water', 'ethanol', 'ethene','catechol', '4-Ethylcatechol']\n",
    "\n",
    "# Dicionário para armazenar os SMILES\n",
    "smiles_compostos = {}\n",
    "\n",
    "# Loop para gerar os SMILES\n",
    "for nome in nomes_compostos: # Para cada nome na lista de nomes\n",
    "    composto = pcp.get_compounds(nome, 'name')[0] # Buscamos o código do composto no PubChem com o nome\n",
    "    smiles = composto.canonical_smiles # Buscamos o SMILES a partir do código do composto\n",
    "    mol = Chem.MolFromSmiles(smiles) # Fazemos a molécula pelo RDKIT\n",
    "    smiles_canonico = Chem.MolToSmiles(mol) # Retiramos o SMILES da molécula do RDKIT\n",
    "    smiles_compostos[nome] = [smiles_canonico, mol] # Armazenamos no dicionário, onde a chave é o nome do composto e o valor é uma lista com smiles e mol\n",
    "\n",
    "# Vendo os resultados da busca\n",
    "for nome, lista in smiles_compostos.items():\n",
    "    print(f'{nome}: {lista[0]}')"
   ]
  },
  {
   "cell_type": "markdown",
   "id": "c0fe5271-ec5c-40ef-ae72-3b6391abdd99",
   "metadata": {},
   "source": [
    "## Reações"
   ]
  },
  {
   "cell_type": "markdown",
   "id": "fe3b8e39-455a-4266-becf-3082046f229b",
   "metadata": {},
   "source": [
    "Com os compostos em mão, vamos definir as reações. Para isso, nós usamos os SMARTS:\n",
    "\n",
    "2. SMILES arbitrary target specification (SMARTS): esse código permite representar reações específicas ou gerais por meio dos SMILES.\n",
    "    Exemplo de SMARTS (Desidratação do Etanol):\n",
    "    - Reação: $CH_3CH_2OH \\xrightarrow{} C_2H_4 + H_2O$\n",
    "    - SMARTS: CCO>>C=C . O"
   ]
  },
  {
   "cell_type": "code",
   "execution_count": 4,
   "id": "7b829f88-88b4-40b5-b896-d815c68c94b1",
   "metadata": {},
   "outputs": [
    {
     "data": {
      "image/png": "[encoded data removed]",
      "text/plain": [
       "<rdkit.Chem.rdChemReactions.ChemicalReaction at 0x1e62a4b4f20>"
      ]
     },
     "execution_count": 4,
     "metadata": {},
     "output_type": "execute_result"
    }
   ],
   "source": [
    "from rdkit.Chem import AllChem\n",
    "\n",
    "etanol_desidratacao = AllChem.ReactionFromSmarts('CCO>>C=C.O')\n",
    "etanol_desidratacao"
   ]
  },
  {
   "cell_type": "markdown",
   "id": "ddda5ad3-a8e8-48c0-b2ad-10cb82c95604",
   "metadata": {},
   "source": [
    "Os SMARTS se tornam realmente interessantes quando generalizamos as reações, ou seja, desenhamos a reação de modo que qualquer compostos que tenha um padrão determinado possa reagir. Dessa forma, podemos escrever a desidratação de forma generalizada assim:\n",
    "\n",
    "Desidratação: [C!H0:1][C:2][OH1:3]>>[C:1]=[C:2].[O:3]\n",
    "\n",
    "Dessa maneira, podemos fazer a reação para o etanol e colher os produtos gerados nela.\n",
    "\n",
    "Assim, vamos primeiro usar o módulo AllChem do RDKIT que permite realizar reaçõea a partir do SMARTS."
   ]
  },
  {
   "cell_type": "code",
   "execution_count": 5,
   "id": "4c3f235e-2242-4712-8d98-9246a75c1717",
   "metadata": {},
   "outputs": [
    {
     "name": "stdout",
     "output_type": "stream",
     "text": [
      "C=C\n",
      "O\n"
     ]
    }
   ],
   "source": [
    "# SMARTS para a desidratação\n",
    "smarts_desidratacao = '[C!H0:1][C:2][OH1:3]>>[C:1]=[C:2].[O:3]'\n",
    "\n",
    "# Convertendo o SMARTS para um objeto de reação do RDKIT\n",
    "reacao_desidratacao = AllChem.ReactionFromSmarts(smarts_desidratacao)\n",
    "\n",
    "# Criando o reagente\n",
    "Etanol = Chem.MolFromSmiles('CCO')\n",
    "\n",
    "# Executando a reação\n",
    "desidratacao_etanol_produtos = reacao_desidratacao.RunReactants((Etanol,))\n",
    "\n",
    "# Exibindo os produtos da reação\n",
    "for produto in desidratacao_etanol_produtos:\n",
    "    for mol in produto:\n",
    "        print(Chem.MolToSmiles(mol))"
   ]
  },
  {
   "cell_type": "markdown",
   "id": "d45735b8-d039-4cbd-867b-92555fb5d3db",
   "metadata": {},
   "source": [
    "Tendo a primeira reação definida, falta a segunda, que é a reação entre catecol e etanol. Vamos definir então o SMARTS dela para fazer a reação de alquilação de moléculas aromáticas com o etanol, liberando compostos aromáticos com um etil e água.\n",
    "\n",
    "[*:0][c:1].[C:2][C:3]=[O:4]>>[*:0][c:1][C:2][C:3].[O:4]"
   ]
  },
  {
   "cell_type": "code",
   "execution_count": 6,
   "id": "07c3a8e7-f734-432c-8c0e-2db764028fc0",
   "metadata": {},
   "outputs": [
    {
     "name": "stdout",
     "output_type": "stream",
     "text": [
      "0 CCc1(O)ccccc1O\n",
      "0 O\n",
      "1 CCc1cccc(O)c-1O\n",
      "1 O\n",
      "2 CCc1(O)ccccc-1O\n",
      "2 O\n",
      "3 CCc1(O)c(O)cccc-1\n",
      "3 O\n",
      "4 CCc1ccc(O)c(O)c-1\n",
      "4 O\n",
      "5 CCc1c(O)c(O)ccc-1\n",
      "5 O\n",
      "6 CCc1cc(O)c(O)cc-1\n",
      "6 O\n",
      "7 CCc1cc(O)c(O)cc-1\n",
      "7 O\n",
      "8 CCc1c(O)c(O)ccc-1\n",
      "8 O\n",
      "9 CCc1ccc(O)c(O)c-1\n",
      "9 O\n",
      "10 CCc1(O)c(O)cccc-1\n",
      "10 O\n",
      "11 CCc1cccc(O)c-1O\n",
      "11 O\n",
      "12 CCc1(O)ccccc-1O\n",
      "12 O\n",
      "13 CCc1(O)ccccc1O\n",
      "13 O\n"
     ]
    }
   ],
   "source": [
    "# SMARTS para a alquilação com etanol\n",
    "smarts_alquilacao = '[*:0][c:1].[C:2][C:3]=[O:4]>>[*:0][c:1][C:2][C:3].[O:4]'\n",
    "\n",
    "# Convertendo o SMARTS para um objeto de reação do RDKIT\n",
    "reacao_alquilacao = AllChem.ReactionFromSmarts(smarts_alquilacao)\n",
    "\n",
    "# Criando os reagentes\n",
    "Catecol = Chem.MolFromSmiles('Oc1ccccc1O')\n",
    "Etanol = Chem.MolFromSmiles('[C:2][C:3]=[O:4]')\n",
    "\n",
    "# Executando a reação\n",
    "alquilacao_catecol_produtos = reacao_alquilacao.RunReactants([Catecol,Etanol])\n",
    "\n",
    "# Exibindo os produtos da reação\n",
    "for i in range(len(alquilacao_catecol_produtos)):\n",
    "    produto = alquilacao_catecol_produtos[i]\n",
    "    for mol in produto:\n",
    "        smiles_produto = Chem.MolToSmiles(mol)\n",
    "        print(i, smiles_produto)"
   ]
  },
  {
   "cell_type": "markdown",
   "id": "8ce77a35-c311-4275-a615-569602ec1b13",
   "metadata": {},
   "source": [
    "Como podemos ver, diversos produtos foram gerados, isso quer dizer que o RDKIT nos retornou todas as formas possíveis de posicionar a etila no anel aromático. Para evitar isso, poderíamos colocar mais restrições dentro do SMARTS ou filtrar os produtos gerados com base nos nossos conhecimentos sobre a termodinâmica das reações e então guardar aqueles com maior probabilidade de ocorrer. No nosso caso, vou apenas escolher o composto desejado, o 4-etil catecol ('CCc1ccc(O)c(O)c-1')."
   ]
  },
  {
   "cell_type": "code",
   "execution_count": 7,
   "id": "2dd5a519-ca66-413d-b309-958728ee624a",
   "metadata": {},
   "outputs": [
    {
     "data": {
      "image/png": "[encoded data removed]",
      "text/plain": [
       "<rdkit.Chem.rdchem.Mol at 0x1e62a4b5a10>"
      ]
     },
     "execution_count": 7,
     "metadata": {},
     "output_type": "execute_result"
    }
   ],
   "source": [
    "quatro_etil_catecol = alquilacao_catecol_produtos[4][0] # Seleciona aos produtos da reação 4 e depois o produto 0\n",
    "agua = alquilacao_catecol_produtos[4][1] # Seleciona aos produtos da reação 4 e depois o produto 1\n",
    "quatro_etil_catecol"
   ]
  },
  {
   "cell_type": "markdown",
   "id": "d18e8602-d8d2-4e37-92e3-7a557e44e502",
   "metadata": {},
   "source": [
    "## Construção da Rede de Reações"
   ]
  },
  {
   "cell_type": "markdown",
   "id": "1e8ffe09-2887-4c7d-9ab9-d0042b24a623",
   "metadata": {},
   "source": [
    "Com tudo isso, para gerar redes maiores, seria necessário juntar toda a lógica vista até agora com a que vem agora numa única iteração, mas isso não seria nem um pouco didático.\n",
    "\n",
    "Agora, para construir nossa rede de reações precisamos da ajuda de uma biblioteca que nos permite fazer os grafos direcionais (com setas) bipartidos (separando os nós de compostos e reações) e do matplotlib para ver. Vamos usar o networkx para essa missão, então instale eles."
   ]
  },
  {
   "cell_type": "code",
   "execution_count": null,
   "id": "e719d29f-63a7-4c02-80b3-9fcd5d7dd844",
   "metadata": {},
   "outputs": [],
   "source": [
    "pip install networkx"
   ]
  },
  {
   "cell_type": "code",
   "execution_count": null,
   "id": "b2474ba0-9c99-449e-b172-5ccde9c2487d",
   "metadata": {},
   "outputs": [],
   "source": [
    "pip install matplotlib"
   ]
  },
  {
   "cell_type": "code",
   "execution_count": 8,
   "id": "5a1f2f58-9bb6-4e08-a579-fcc582a4537c",
   "metadata": {},
   "outputs": [],
   "source": [
    "import networkx\n",
    "from networkx.algorithms import bipartite"
   ]
  },
  {
   "cell_type": "markdown",
   "id": "0b176b30-2ead-479f-b8a3-34ab2684eba2",
   "metadata": {},
   "source": [
    "Depois, vamos fazer a uma lista com os compostos usando os smiles a partir das reações que corremos e outra com as reações e definir manualmente as ligações. Lembrando novamente que para redes maiores esses passos fariam parte da iteração de reações, a fim de adiocinar essas relações a cada reação gerada."
   ]
  },
  {
   "cell_type": "code",
   "execution_count": 9,
   "id": "09709ae4-e90c-4863-9f24-5f61f57d5cfd",
   "metadata": {},
   "outputs": [],
   "source": [
    "# SMILES dos Reagentes\n",
    "\n",
    "Catecol_Smiles = 'Oc1ccccc1O'\n",
    "Etanol_Smiles = 'CCO'\n",
    "\n",
    "# SMILES dos Produtos das reações a partir das moléculas geradas nas reações\n",
    "\n",
    "eteno = desidratacao_etanol_produtos[0][0]\n",
    "Eteno_Smiles = Chem.MolToSmiles(eteno)\n",
    "\n",
    "quatro_etil_catecol = alquilacao_catecol_produtos[4][0]\n",
    "Quatro_Etil_Catecol_Smiles = Chem.MolToSmiles(quatro_etil_catecol)\n",
    "\n",
    "agua = alquilacao_catecol_produtos[4][1]\n",
    "Agua_Smiles = Chem.MolToSmiles(agua)\n",
    "\n",
    "\n",
    "#Lista de compostos\n",
    "lista_compostos = [Catecol_Smiles, Etanol_Smiles, Eteno_Smiles, Agua_Smiles, Quatro_Etil_Catecol_Smiles]"
   ]
  },
  {
   "cell_type": "markdown",
   "id": "5e9e82eb-b9bc-4254-99bf-49486045012a",
   "metadata": {},
   "source": [
    "A lista de reações pode ser definida da maneira que achar melhor. Aqui, será com o nome da reação, mas numa rede maior, pode ser com base no tipo de reação, por exemplo, Desidratação_0, Desidratação_1, Desidratação_2 ..."
   ]
  },
  {
   "cell_type": "code",
   "execution_count": 10,
   "id": "28cbeb99-b053-4d2b-af22-3dc541afb3b9",
   "metadata": {},
   "outputs": [],
   "source": [
    "#Lista de reações\n",
    "lista_reacoes = ['Desidratação do etanol', 'Alquilacão do catecol']"
   ]
  },
  {
   "cell_type": "markdown",
   "id": "460b1925-4aeb-4e0a-8ea2-4c954d9aec1e",
   "metadata": {},
   "source": [
    "Agora vamos dividir os conjuntos para a rede."
   ]
  },
  {
   "cell_type": "code",
   "execution_count": 13,
   "id": "2e2da55e-de57-4640-8af0-6c376ba57d41",
   "metadata": {},
   "outputs": [
    {
     "data": {
      "image/png": "[encoded data removed]",
      "text/plain": [
       "<Figure size 1300x600 with 1 Axes>"
      ]
     },
     "metadata": {},
     "output_type": "display_data"
    }
   ],
   "source": [
    "import matplotlib.pyplot as plt\n",
    "\n",
    "# Criando um grafo direcionado bipartido\n",
    "fig = plt.figure(figsize=(13,6))\n",
    "Rede = networkx.DiGraph()\n",
    "\n",
    "# Adicionando os conjuntos de nós a rede\n",
    "Rede.add_nodes_from(lista_reacoes, bipartite=0)  # Marca os nós de reação com o lado 0 por padrão\n",
    "Rede.add_nodes_from(lista_compostos, bipartite=1)  # Marca os nós de compostos com o lado 1 por padrão\n",
    "\n",
    "\n",
    "# Criando arestas para a desidratação do etanol\n",
    "arestas_desidratacao_etanol = [(Etanol_Smiles, 'Desidratação do etanol'), ('Desidratação do etanol', Eteno_Smiles), ('Desidratação do etanol', Agua_Smiles)]\n",
    "Rede.add_edges_from(arestas_desidratacao_etanol)\n",
    "\n",
    "# Criando arestas para a alquilação do catecol\n",
    "arestas_alquilacao_etanol = [(Catecol_Smiles, 'Alquilacão do catecol'), (Etanol_Smiles, 'Alquilacão do catecol'), ('Alquilacão do catecol', Quatro_Etil_Catecol_Smiles), ('Alquilacão do catecol', Agua_Smiles)]\n",
    "Rede.add_edges_from(arestas_alquilacao_etanol)\n",
    "\n",
    "# Visualização do grafo\n",
    "pos = networkx.drawing.layout.bipartite_layout(Rede,lista_reacoes)\n",
    "networkx.draw(Rede, pos, with_labels=True, node_color='skyblue', node_size=500, font_weight='bold')\n",
    "plt.show()"
   ]
  },
  {
   "cell_type": "markdown",
   "id": "2abcb6b3-5f1b-4f41-ba46-0956178cdea0",
   "metadata": {},
   "source": [
    "Com isso, finalizamos o tutorial de rede de reações usando python por meio do RDKIT. Sempre aceito sugestões de melhoria, então entre em contato se quiser trocar ideias sobre o assunto pelo github. Abraço e siga bem cientista."
   ]
  },
  {
   "cell_type": "code",
   "execution_count": null,
   "id": "9763e752-4f66-4420-b713-bd11eedd956c",
   "metadata": {},
   "outputs": [],
   "source": []
  }
 ],
 "metadata": {
  "kernelspec": {
   "display_name": "ilumpy",
   "language": "python",
   "name": "ilumpy"
  },
  "language_info": {
   "codemirror_mode": {
    "name": "ipython",
    "version": 3
   },
   "file_extension": ".py",
   "mimetype": "text/x-python",
   "name": "python",
   "nbconvert_exporter": "python",
   "pygments_lexer": "ipython3",
   "version": "3.10.8"
  }
 },
 "nbformat": 4,
 "nbformat_minor": 5
}
